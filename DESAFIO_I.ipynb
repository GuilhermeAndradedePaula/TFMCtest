{
  "nbformat": 4,
  "nbformat_minor": 0,
  "metadata": {
    "anaconda-cloud": {},
    "kernelspec": {
      "display_name": "Python 3",
      "language": "python",
      "name": "python3"
    },
    "language_info": {
      "codemirror_mode": {
        "name": "ipython",
        "version": 3
      },
      "file_extension": ".py",
      "mimetype": "text/x-python",
      "name": "python",
      "nbconvert_exporter": "python",
      "pygments_lexer": "ipython3",
      "version": "3.8.5"
    },
    "colab": {
      "provenance": [],
      "include_colab_link": true
    }
  },
  "cells": [
    {
      "cell_type": "markdown",
      "metadata": {
        "id": "view-in-github",
        "colab_type": "text"
      },
      "source": [
        "<a href=\"https://colab.research.google.com/github/GuilhermeAndradedePaula/TFMCtest/blob/main/DESAFIO_I.ipynb\" target=\"_parent\"><img src=\"https://colab.research.google.com/assets/colab-badge.svg\" alt=\"Open In Colab\"/></a>"
      ]
    },
    {
      "cell_type": "markdown",
      "metadata": {
        "id": "M-YRPDgv5lO_"
      },
      "source": [
        "# DESAFIO 0"
      ]
    },
    {
      "cell_type": "markdown",
      "metadata": {
        "id": "ng4VK2hy5lPF"
      },
      "source": [
        "The period between 1970 and 1982 marked a significant shift in the United States car industry. American production shifted from heavy, powerful six- and eight-cylinder cars with poor gas mileage to lighter, less powerful, four-cylinder cars with higher fuel efficiency. The global auto industry–including Americans and their European and Japanese competitors–raised overall miles per gallon (MPG) by focusing on four-cylinder cars and making them more fuel efficient."
      ]
    },
    {
      "cell_type": "code",
      "metadata": {
        "id": "FFXTN07r5lPH"
      },
      "source": [
        "import pandas as pd"
      ],
      "execution_count": null,
      "outputs": []
    },
    {
      "cell_type": "markdown",
      "metadata": {
        "id": "8RNVheOP5lPI"
      },
      "source": [
        "## Faça a leitura inicial dos dados e explore suas informações, estude seus tipos, sua forma e apresente uma análise inicial das medidas de dispersão de seus atributos."
      ]
    },
    {
      "cell_type": "code",
      "metadata": {
        "id": "vk64bQY6rn6X"
      },
      "source": [],
      "execution_count": null,
      "outputs": []
    },
    {
      "cell_type": "code",
      "metadata": {
        "id": "Nj4xM4SW5lPJ",
        "colab": {
          "base_uri": "https://localhost:8080/",
          "height": 206
        },
        "outputId": "970c6902-80b4-421f-f6c7-0e8e6421fde4"
      },
      "source": [
        "data = pd.read_csv('https://raw.githubusercontent.com/abnr/ml-data/main/auto_industry.csv')\n",
        "data.head()"
      ],
      "execution_count": null,
      "outputs": [
        {
          "output_type": "execute_result",
          "data": {
            "text/html": [
              "<div>\n",
              "<style scoped>\n",
              "    .dataframe tbody tr th:only-of-type {\n",
              "        vertical-align: middle;\n",
              "    }\n",
              "\n",
              "    .dataframe tbody tr th {\n",
              "        vertical-align: top;\n",
              "    }\n",
              "\n",
              "    .dataframe thead th {\n",
              "        text-align: right;\n",
              "    }\n",
              "</style>\n",
              "<table border=\"1\" class=\"dataframe\">\n",
              "  <thead>\n",
              "    <tr style=\"text-align: right;\">\n",
              "      <th></th>\n",
              "      <th>mpg</th>\n",
              "      <th>cylinders</th>\n",
              "      <th>displacement</th>\n",
              "      <th>horsepower</th>\n",
              "      <th>weight</th>\n",
              "      <th>acceleration</th>\n",
              "      <th>model_year</th>\n",
              "      <th>origin</th>\n",
              "      <th>name</th>\n",
              "    </tr>\n",
              "  </thead>\n",
              "  <tbody>\n",
              "    <tr>\n",
              "      <th>0</th>\n",
              "      <td>18.0</td>\n",
              "      <td>8</td>\n",
              "      <td>307.0</td>\n",
              "      <td>130.0</td>\n",
              "      <td>3504</td>\n",
              "      <td>12.0</td>\n",
              "      <td>70</td>\n",
              "      <td>usa</td>\n",
              "      <td>chevrolet chevelle malibu</td>\n",
              "    </tr>\n",
              "    <tr>\n",
              "      <th>1</th>\n",
              "      <td>15.0</td>\n",
              "      <td>8</td>\n",
              "      <td>350.0</td>\n",
              "      <td>165.0</td>\n",
              "      <td>3693</td>\n",
              "      <td>11.5</td>\n",
              "      <td>70</td>\n",
              "      <td>usa</td>\n",
              "      <td>buick skylark 320</td>\n",
              "    </tr>\n",
              "    <tr>\n",
              "      <th>2</th>\n",
              "      <td>18.0</td>\n",
              "      <td>8</td>\n",
              "      <td>318.0</td>\n",
              "      <td>150.0</td>\n",
              "      <td>3436</td>\n",
              "      <td>11.0</td>\n",
              "      <td>70</td>\n",
              "      <td>usa</td>\n",
              "      <td>plymouth satellite</td>\n",
              "    </tr>\n",
              "    <tr>\n",
              "      <th>3</th>\n",
              "      <td>16.0</td>\n",
              "      <td>8</td>\n",
              "      <td>304.0</td>\n",
              "      <td>150.0</td>\n",
              "      <td>3433</td>\n",
              "      <td>12.0</td>\n",
              "      <td>70</td>\n",
              "      <td>usa</td>\n",
              "      <td>amc rebel sst</td>\n",
              "    </tr>\n",
              "    <tr>\n",
              "      <th>4</th>\n",
              "      <td>17.0</td>\n",
              "      <td>8</td>\n",
              "      <td>302.0</td>\n",
              "      <td>140.0</td>\n",
              "      <td>3449</td>\n",
              "      <td>10.5</td>\n",
              "      <td>70</td>\n",
              "      <td>usa</td>\n",
              "      <td>ford torino</td>\n",
              "    </tr>\n",
              "  </tbody>\n",
              "</table>\n",
              "</div>"
            ],
            "text/plain": [
              "    mpg  cylinders  displacement  ...  model_year  origin                       name\n",
              "0  18.0          8         307.0  ...          70     usa  chevrolet chevelle malibu\n",
              "1  15.0          8         350.0  ...          70     usa          buick skylark 320\n",
              "2  18.0          8         318.0  ...          70     usa         plymouth satellite\n",
              "3  16.0          8         304.0  ...          70     usa              amc rebel sst\n",
              "4  17.0          8         302.0  ...          70     usa                ford torino\n",
              "\n",
              "[5 rows x 9 columns]"
            ]
          },
          "metadata": {},
          "execution_count": 4
        }
      ]
    },
    {
      "cell_type": "markdown",
      "metadata": {
        "id": "TodvLq1h5lPK"
      },
      "source": [
        "## Procure por valores faltantes nas colunas do dataframe e faça as substituições mais razoáveis."
      ]
    },
    {
      "cell_type": "code",
      "metadata": {
        "id": "-g3xcbyo5lPK"
      },
      "source": [],
      "execution_count": null,
      "outputs": []
    },
    {
      "cell_type": "markdown",
      "metadata": {
        "id": "L09a0GJM5lPM"
      },
      "source": [
        "## Calcule quantos modelos foram lançados em anos pares"
      ]
    },
    {
      "cell_type": "code",
      "metadata": {
        "id": "kBvbF7sa5lPM"
      },
      "source": [],
      "execution_count": null,
      "outputs": []
    },
    {
      "cell_type": "markdown",
      "metadata": {
        "id": "KoWIdTF85lPN"
      },
      "source": [
        "## Crie uma coluna para a marca do veículo e outra para o nome\n",
        "\n"
      ]
    },
    {
      "cell_type": "code",
      "metadata": {
        "id": "xVNPXLKe5lPO"
      },
      "source": [],
      "execution_count": null,
      "outputs": []
    },
    {
      "cell_type": "markdown",
      "metadata": {
        "id": "0l_7RXIr5lPO"
      },
      "source": [
        "## É posível identificar alguma relação entre mpg e acceleration?"
      ]
    },
    {
      "cell_type": "code",
      "metadata": {
        "id": "aWlE_aOB5lPO"
      },
      "source": [],
      "execution_count": null,
      "outputs": []
    },
    {
      "cell_type": "markdown",
      "metadata": {
        "id": "qGusKELA5lPP"
      },
      "source": [
        "## Explore as variáveis da tabela agrupando pelo país de origem. Existe diferenças entre elas?"
      ]
    },
    {
      "cell_type": "code",
      "metadata": {
        "id": "DHl3-ayf5lPQ"
      },
      "source": [],
      "execution_count": null,
      "outputs": []
    },
    {
      "cell_type": "markdown",
      "metadata": {
        "id": "H9KyZt815lPQ"
      },
      "source": [
        "## Remova os elementos duplicados e crie uma tabela de consumo em (Km/L), altere os nomes dos países de origem para que todos comecem com letras maiúsculas."
      ]
    },
    {
      "cell_type": "code",
      "metadata": {
        "id": "McInu97O5lPQ"
      },
      "source": [],
      "execution_count": null,
      "outputs": []
    },
    {
      "cell_type": "markdown",
      "metadata": {
        "id": "xl1FxlBI5lPR"
      },
      "source": [
        "## Use a função [pivot_table()](https://pandas.pydata.org/pandas-docs/stable/reference/api/pandas.pivot_table.html) para criar uma tabela dinâmica que calcule a média do consumo (miles/galon) `'mpg'`. Divida o dataframe em ano de modelo `'model_year'` e número de cilindros `'cylinders'`. Descreva os resultados."
      ]
    },
    {
      "cell_type": "code",
      "metadata": {
        "id": "Eny74LuA5lPR"
      },
      "source": [],
      "execution_count": null,
      "outputs": []
    },
    {
      "cell_type": "markdown",
      "metadata": {
        "id": "5Z-i3q5-5lPR"
      },
      "source": [
        "## Agrupe o dataframe por origem  `'origin'` e número cilindros `'cylinders'` e calcule a média da potência `'horsepower'` dos carros fabricados."
      ]
    },
    {
      "cell_type": "code",
      "metadata": {
        "id": "KtvE0ncD5lPS"
      },
      "source": [],
      "execution_count": null,
      "outputs": []
    },
    {
      "cell_type": "markdown",
      "metadata": {
        "id": "0NlV9HTB5lPS"
      },
      "source": [
        "## Verifique como consumo, horsepower e cylinders se altera ao longo dos anos para cada país da coluna origin."
      ]
    },
    {
      "cell_type": "code",
      "metadata": {
        "id": "F0puNAGN5lPT"
      },
      "source": [],
      "execution_count": null,
      "outputs": []
    },
    {
      "cell_type": "markdown",
      "metadata": {
        "id": "hARAR2wD5lPT"
      },
      "source": [
        "## Crie uma nova coluna com o continente dos países baseado na coluna `origin`"
      ]
    },
    {
      "cell_type": "code",
      "metadata": {
        "id": "JFCrYalO5lPU"
      },
      "source": [],
      "execution_count": null,
      "outputs": []
    },
    {
      "cell_type": "markdown",
      "metadata": {
        "id": "qdcekQ8O5lPU"
      },
      "source": [
        "# Bônus - estatística"
      ]
    },
    {
      "cell_type": "markdown",
      "metadata": {
        "id": "nQe-lQrG5lPU"
      },
      "source": [
        "# Apresente a centralidade, dispersão e distribuição das variáveis"
      ]
    },
    {
      "cell_type": "code",
      "metadata": {
        "id": "luOCX3uj5lPU"
      },
      "source": [],
      "execution_count": null,
      "outputs": []
    },
    {
      "cell_type": "markdown",
      "metadata": {
        "id": "EXIGDZBw5lPV"
      },
      "source": [
        "## Gere matriz e gráfico de correlação"
      ]
    },
    {
      "cell_type": "code",
      "metadata": {
        "id": "sIMUUeBR5lPV"
      },
      "source": [],
      "execution_count": null,
      "outputs": []
    },
    {
      "cell_type": "markdown",
      "metadata": {
        "id": "ge2Xmgn_5lPW"
      },
      "source": [
        "# Bonus - DataViz"
      ]
    },
    {
      "cell_type": "markdown",
      "metadata": {
        "id": "12hxMbtj5lPW"
      },
      "source": [
        "## Gere gráficos de boxplots para todos os elementos numéricos do dataframe."
      ]
    },
    {
      "cell_type": "code",
      "metadata": {
        "id": "voBvlpk15lPW"
      },
      "source": [],
      "execution_count": null,
      "outputs": []
    },
    {
      "cell_type": "markdown",
      "metadata": {
        "id": "Elx-fom45lPW"
      },
      "source": [
        "## Crie uma nova coluna com a relação peso/potência para cada veículo e plote um gráfico de dispersão dessa coluna com a de consumo"
      ]
    },
    {
      "cell_type": "code",
      "metadata": {
        "id": "e-5iJo2e5lPX"
      },
      "source": [],
      "execution_count": null,
      "outputs": []
    }
  ]
}